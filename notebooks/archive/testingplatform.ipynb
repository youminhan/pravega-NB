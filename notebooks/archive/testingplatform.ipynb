{
 "cells": [
  {
   "cell_type": "code",
   "execution_count": 1,
   "metadata": {},
   "outputs": [],
   "source": [
    "import pandas\n",
    "from IPython.display import display, clear_output\n",
    "import matplotlib.pyplot as plt\n",
    "from scipy.stats import norm\n",
    "from scipy import stats\n",
    "import numpy as np\n",
    "from praveganb.idracdemo import *\n",
    "import seaborn as sns\n",
    "%matplotlib inline"
   ]
  },
  {
   "cell_type": "code",
   "execution_count": 2,
   "metadata": {},
   "outputs": [],
   "source": [
    "def display_data(metric_report, metric_id=None, mean=False):\n",
    "    data = []\n",
    "    for metric in metric_report['MetricValues']:\n",
    "        try:\n",
    "            metric['MetricValue'] = float(metric['MetricValue'])\n",
    "        except:\n",
    "            pass\n",
    "        data.append(metric)\n",
    "    if metric_id:\n",
    "        data = [metric for metric in data if metric.get('MetricId') == metric_id]\n",
    "    df = pandas.json_normalize(data)\n",
    "    if mean:\n",
    "         display(df.groupby('MetricId')['MetricValue'].mean())\n",
    "    else:\n",
    "        display(df)"
   ]
  },
  {
   "cell_type": "code",
   "execution_count": 3,
   "metadata": {},
   "outputs": [],
   "source": [
    "idracdata = IdracData(scope='idracdemo', stream='idracdata', gateway='pravega-grpc-gateway:80')"
   ]
  },
  {
   "cell_type": "code",
   "execution_count": 4,
   "metadata": {},
   "outputs": [
    {
     "name": "stdout",
     "output_type": "stream",
     "text": [
      "Start: H4sIAAAAAAAAADOwykwpSkxOSc3N14ewEksSrQx0DHWMgCQQQkgAg7OsXCcAAAA=\n",
      "End: H4sIAAAAAAAAACWIQQqAMAwEPxRw025syG+C7cGDCOL/MSADwzCIcz55zHXd21/5ZkBUWrkIVbg7yWG1yd6HAw4VtR3GsjV8+pIZXEgAAAA=\n"
     ]
    }
   ],
   "source": [
    "pandas.set_option('display.max_columns', None)\n",
    "pandas.set_option('display.max_rows', None)\n",
    "pandas.set_option('display.width', None)\n",
    "pandas.set_option('display.max_colwidth', None)\n",
    "stream_info = idracdata.get_stream_start_end()\n",
    "print('Start: {0}'.format(stream_info[0]))\n",
    "print('End: {0}'.format(stream_info[1]))"
   ]
  },
  {
   "cell_type": "code",
   "execution_count": null,
   "metadata": {},
   "outputs": [],
   "source": [
    "import collections\n",
    "data_ids = [\n",
    "    'NICStatistics',\n",
    "    'CUPS',\n",
    "    'ThermalSensor',\n",
    "    'CPUMemMetrics',\n",
    "    'CPUSensor',\n",
    "    'FanSensor',\n",
    "    'GPUMetrics',\n",
    "    'MemorySensor',\n",
    "    'NicSensor',\n",
    "    'NICStatistics',\n",
    "    'NVMeSMARTData',\n",
    "    'PSUMetrics',\n",
    "    'PowerMetrics',\n",
    "    'Sensor',\n",
    "    'StorageDiskSMARTData',\n",
    "    'StorageSensor',\n",
    "    'ThermalMetrics',\n",
    "    'ThermalSensor'\n",
    "]\n",
    "metric_id = None\n",
    "rack = 'eaglemonk'\n",
    "\n",
    "# metric_report = idracdata.get_metric_report_from_idrac(from_stream_cut=\"H4sIAAAAAAAAACXGSQqAQAwF0QsFzGASf24TbBcuRBDvjw1S8Ciuczy9j+O6l//67WIS0ums3Ng2VVEDJUeEIFcYZSgDDvX8AKtFartFAAAA\",\n",
    "#                                                        to_stream_cut=\"H4sIAAAAAAAAACXGSwqAMAxF0Q0FbH59aXYTrAMHIoj7x4JcONyW53xqn8d1b//VW9mISZardDURC3EYgRmKEc5K6PCQFqPjA26ZTCRFAAAA\",\n",
    "#                                                        # data_id=data_id,\n",
    "#                                                        rack_label=rack,\n",
    "#                                                       )\n",
    "metric_report = idracdata.get_metric_report_from_idrac(from_stream_cut=stream_info[0],\n",
    "                                                       to_stream_cut=stream_info[1],\n",
    "                                                       rack_label=rack,\n",
    "                                                      )\n",
    "    \n",
    "grouped = collections.defaultdict(list)\n",
    "for event in metric_report:\n",
    "    grouped[event['Id']].append(event)\n",
    "\n",
    "for _id, events in grouped.items():\n",
    "    dfs = pandas.DataFrame()\n",
    "    for event in events:\n",
    "        clear_output(wait=True)\n",
    "        df = pandas.json_normalize(event['MetricValues'])\n",
    "        df['Id'] = event['Id']\n",
    "        df['Name'] = event['Name']\n",
    "        df['Timestamp'] = event['Timestamp']\n",
    "        df['Timestamp'] = pandas.to_datetime(df['Timestamp'],\n",
    "                           format=\"%Y-%m-%dT%H:%M:%S.%fZ\", utc=True)\n",
    "        df['Timestamp'] = df['Timestamp'].dt.tz_convert(None)\n",
    "        # df = df.groupby(['Timestamp', 'Id', 'Name', 'MetricId', 'Oem.Dell.ContextID']).aggregate({'MetricValue': 'max'})\n",
    "        df = df.groupby(['Timestamp', 'Id', 'MetricId']).aggregate({'MetricValue': 'max'})\n",
    "\n",
    "        display(df)\n",
    "        dfs = dfs.append(df)\n",
    "    dfs.to_csv(\"IDRACData{0}.csv\".format(_id))"
   ]
  },
  {
   "cell_type": "code",
   "execution_count": 16,
   "metadata": {},
   "outputs": [
    {
     "name": "stdout",
     "output_type": "stream",
     "text": [
      "Collecting zipfile36\n",
      "  Downloading zipfile36-0.1.3-py3-none-any.whl (20 kB)\n",
      "Installing collected packages: zipfile36\n",
      "Successfully installed zipfile36-0.1.3\n"
     ]
    }
   ],
   "source": [
    "! pip install zipfile36"
   ]
  },
  {
   "cell_type": "code",
   "execution_count": 23,
   "metadata": {},
   "outputs": [
    {
     "name": "stdout",
     "output_type": "stream",
     "text": [
      "IDRACDataNicSensor.csv\n",
      "IDRACDataStorageSensor.csv\n",
      "IDRACDataPSUMetrics.csv\n",
      "IDRACDataNICStatistics.csv\n",
      "IDRACDataStorageDiskSMARTData.csv\n",
      "IDRACDataSensor.csv\n",
      "IDRACDataNVMeSMARTData.csv\n",
      "IDRACDataThermalSensor.csv\n",
      "IDRACDataCPUMemMetrics.csv\n",
      "IDRACDataFanSensor.csv\n",
      "IDRACDataPowerMetrics.csv\n",
      "IDRACDataMemorySensor.csv\n",
      "IDRACDataCPUSensor.csv\n",
      "IDRACDataGPUMetrics.csv\n",
      "IDRACDataThermalMetrics.csv\n",
      "IDRACDataCUPS.csv\n"
     ]
    }
   ],
   "source": [
    "from zipfile import ZipFile\n",
    "import os\n",
    "zipObj = ZipFile('idracdata.zip', 'w')\n",
    "\n",
    "files = [f for f in os.listdir('.') if os.path.isfile(f)]\n",
    "for filename in files:\n",
    "    if '.csv' in filename:\n",
    "        zipObj.write(filename)\n",
    "        print(filename)\n",
    "zipObj.close()\n"
   ]
  },
  {
   "cell_type": "code",
   "execution_count": 7,
   "metadata": {},
   "outputs": [
    {
     "data": {
      "text/html": [
       "<div>\n",
       "<style scoped>\n",
       "    .dataframe tbody tr th:only-of-type {\n",
       "        vertical-align: middle;\n",
       "    }\n",
       "\n",
       "    .dataframe tbody tr th {\n",
       "        vertical-align: top;\n",
       "    }\n",
       "\n",
       "    .dataframe thead th {\n",
       "        text-align: right;\n",
       "    }\n",
       "</style>\n",
       "<table border=\"1\" class=\"dataframe\">\n",
       "  <thead>\n",
       "    <tr style=\"text-align: right;\">\n",
       "      <th></th>\n",
       "    </tr>\n",
       "  </thead>\n",
       "  <tbody>\n",
       "  </tbody>\n",
       "</table>\n",
       "</div>"
      ],
      "text/plain": [
       "Empty DataFrame\n",
       "Columns: []\n",
       "Index: []"
      ]
     },
     "metadata": {},
     "output_type": "display_data"
    }
   ],
   "source": [
    "display(dfs)"
   ]
  },
  {
   "cell_type": "code",
   "execution_count": 11,
   "metadata": {},
   "outputs": [],
   "source": [
    "df.to_csv(\"IDRACData{0}.csv\".format(data_id))"
   ]
  },
  {
   "cell_type": "code",
   "execution_count": null,
   "metadata": {},
   "outputs": [],
   "source": [
    "# display_data(metric_report)\n",
    "# display_data(metric_report, metric_id='WattsReading')\n",
    "# RPMReading\n",
    "calculate_mean = True\n",
    "display_data(metric_report, metric_id=metric_id, mean=calculate_mean)"
   ]
  },
  {
   "cell_type": "code",
   "execution_count": null,
   "metadata": {},
   "outputs": [],
   "source": [
    "idracalert = IdracData(scope='idracdemo', stream='alerts', gateway='pravega-grpc-gateway:80')"
   ]
  },
  {
   "cell_type": "code",
   "execution_count": null,
   "metadata": {},
   "outputs": [],
   "source": [
    "stream_info = idracalert.get_stream_start_end()\n",
    "stream_info"
   ]
  },
  {
   "cell_type": "code",
   "execution_count": null,
   "metadata": {},
   "outputs": [],
   "source": [
    "data = []\n",
    "_events = idracalert.get_events(stream_info[0])\n",
    "for i in _events:\n",
    "    clear_output(wait=True)\n",
    "    for event in i['Events']:\n",
    "        event['remoteaddr'] = i['RemoteAddr']\n",
    "        data.append(event)\n",
    "    df = pandas.json_normalize(data)\n",
    "    display(df)"
   ]
  }
 ],
 "metadata": {
  "kernelspec": {
   "display_name": "Python 3",
   "language": "python",
   "name": "python3"
  },
  "language_info": {
   "codemirror_mode": {
    "name": "ipython",
    "version": 3
   },
   "file_extension": ".py",
   "mimetype": "text/x-python",
   "name": "python",
   "nbconvert_exporter": "python",
   "pygments_lexer": "ipython3",
   "version": "3.7.3"
  }
 },
 "nbformat": 4,
 "nbformat_minor": 2
}
