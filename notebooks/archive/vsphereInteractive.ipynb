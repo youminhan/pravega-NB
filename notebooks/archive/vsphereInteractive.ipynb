{
 "cells": [
  {
   "cell_type": "code",
   "execution_count": 1,
   "metadata": {},
   "outputs": [],
   "source": [
    "import pandas\n",
    "from IPython.display import *\n",
    "import matplotlib.pyplot as plt\n",
    "from scipy.stats import norm\n",
    "from scipy import stats\n",
    "import numpy as np\n",
    "from praveganb.idracdemo import *\n",
    "from praveganb.idracdemo import IdracData as VsphereData\n",
    "import seaborn as sns\n",
    "%matplotlib inline"
   ]
  },
  {
   "cell_type": "markdown",
   "metadata": {},
   "source": [
    "# Setup the Connection with pravega"
   ]
  },
  {
   "cell_type": "code",
   "execution_count": 2,
   "metadata": {},
   "outputs": [],
   "source": [
    "vspheredata = VsphereData(scope='idracdemo', stream='vmware', gateway='pravega-grpc-gateway:80')"
   ]
  },
  {
   "cell_type": "code",
   "execution_count": 3,
   "metadata": {},
   "outputs": [],
   "source": [
    "stream_info = vspheredata.get_stream_start_end()"
   ]
  },
  {
   "cell_type": "markdown",
   "metadata": {},
   "source": [
    "# Read data from Stream"
   ]
  },
  {
   "cell_type": "code",
   "execution_count": 4,
   "metadata": {},
   "outputs": [],
   "source": [
    "metrics = vspheredata.get_metric_from_vsphere(stream_info[0], stream_info[1])\n",
    "vsphere = \"vcenter.anchorsteam.local\"\n",
    "metric_label = 'vsphere_host_mem'\n",
    "results = []\n",
    "dfs = pandas.DataFrame()\n",
    "for _metric in metrics:\n",
    "    results.extend([metric for metric in _metric['metrics'] if metric['name'] == metric_label])"
   ]
  },
  {
   "cell_type": "markdown",
   "metadata": {},
   "source": [
    "# Using dataframe, Setup the Index"
   ]
  },
  {
   "cell_type": "code",
   "execution_count": 5,
   "metadata": {},
   "outputs": [],
   "source": [
    "dfs = pandas.DataFrame()\n",
    "dfs = dfs.append(pandas.json_normalize(results))\n",
    "dfs['timestamp'] = pandas.to_datetime(dfs['timestamp'], unit='s')\n",
    "dfs.set_index('timestamp', inplace=True)"
   ]
  },
  {
   "cell_type": "markdown",
   "metadata": {},
   "source": [
    "# Keep all records on compute nodes"
   ]
  },
  {
   "cell_type": "code",
   "execution_count": 11,
   "metadata": {},
   "outputs": [
    {
     "data": {
      "text/html": [
       "<div>\n",
       "<style scoped>\n",
       "    .dataframe tbody tr th:only-of-type {\n",
       "        vertical-align: middle;\n",
       "    }\n",
       "\n",
       "    .dataframe tbody tr th {\n",
       "        vertical-align: top;\n",
       "    }\n",
       "\n",
       "    .dataframe thead th {\n",
       "        text-align: right;\n",
       "    }\n",
       "</style>\n",
       "<table border=\"1\" class=\"dataframe\">\n",
       "  <thead>\n",
       "    <tr style=\"text-align: right;\">\n",
       "      <th></th>\n",
       "      <th>fields.usage_average</th>\n",
       "      <th>tags.source</th>\n",
       "      <th>tags.vcenter</th>\n",
       "      <th>tags.clustername</th>\n",
       "    </tr>\n",
       "    <tr>\n",
       "      <th>timestamp</th>\n",
       "      <th></th>\n",
       "      <th></th>\n",
       "      <th></th>\n",
       "      <th></th>\n",
       "    </tr>\n",
       "  </thead>\n",
       "  <tbody>\n",
       "    <tr>\n",
       "      <th>2020-04-29 03:50:00</th>\n",
       "      <td>84.815</td>\n",
       "      <td>10.243.86.38</td>\n",
       "      <td>vcenter.anchorsteam.local</td>\n",
       "      <td>compute</td>\n",
       "    </tr>\n",
       "    <tr>\n",
       "      <th>2020-04-29 03:51:00</th>\n",
       "      <td>89.540</td>\n",
       "      <td>10.243.86.40</td>\n",
       "      <td>vcenter.anchorsteam.local</td>\n",
       "      <td>compute</td>\n",
       "    </tr>\n",
       "    <tr>\n",
       "      <th>2020-04-29 03:50:00</th>\n",
       "      <td>89.530</td>\n",
       "      <td>10.243.86.40</td>\n",
       "      <td>vcenter.anchorsteam.local</td>\n",
       "      <td>compute</td>\n",
       "    </tr>\n",
       "    <tr>\n",
       "      <th>2020-04-29 03:50:00</th>\n",
       "      <td>85.015</td>\n",
       "      <td>10.243.86.32</td>\n",
       "      <td>vcenter.anchorsteam.local</td>\n",
       "      <td>compute</td>\n",
       "    </tr>\n",
       "    <tr>\n",
       "      <th>2020-04-29 03:51:00</th>\n",
       "      <td>85.020</td>\n",
       "      <td>10.243.86.32</td>\n",
       "      <td>vcenter.anchorsteam.local</td>\n",
       "      <td>compute</td>\n",
       "    </tr>\n",
       "  </tbody>\n",
       "</table>\n",
       "</div>"
      ],
      "text/plain": [
       "                     fields.usage_average   tags.source  \\\n",
       "timestamp                                                 \n",
       "2020-04-29 03:50:00                84.815  10.243.86.38   \n",
       "2020-04-29 03:51:00                89.540  10.243.86.40   \n",
       "2020-04-29 03:50:00                89.530  10.243.86.40   \n",
       "2020-04-29 03:50:00                85.015  10.243.86.32   \n",
       "2020-04-29 03:51:00                85.020  10.243.86.32   \n",
       "\n",
       "                                  tags.vcenter tags.clustername  \n",
       "timestamp                                                        \n",
       "2020-04-29 03:50:00  vcenter.anchorsteam.local          compute  \n",
       "2020-04-29 03:51:00  vcenter.anchorsteam.local          compute  \n",
       "2020-04-29 03:50:00  vcenter.anchorsteam.local          compute  \n",
       "2020-04-29 03:50:00  vcenter.anchorsteam.local          compute  \n",
       "2020-04-29 03:51:00  vcenter.anchorsteam.local          compute  "
      ]
     },
     "metadata": {},
     "output_type": "display_data"
    }
   ],
   "source": [
    "data_to_analyse = dfs.loc[(dfs['tags.vcenter'] == vsphere) & (dfs['tags.clustername'] == 'compute'), ['fields.usage_average', 'tags.source', 'tags.vcenter', 'tags.clustername']]\n",
    "display(data_to_analyse.tail())"
   ]
  },
  {
   "cell_type": "markdown",
   "metadata": {},
   "source": [
    "# Calculate Standard deviation from the collected data"
   ]
  },
  {
   "cell_type": "code",
   "execution_count": 7,
   "metadata": {},
   "outputs": [
    {
     "data": {
      "text/plain": [
       "(2.1818131421621696, 85.48682500000001)"
      ]
     },
     "execution_count": 7,
     "metadata": {},
     "output_type": "execute_result"
    }
   ],
   "source": [
    "stdv = data_to_analyse['fields.usage_average'].std()\n",
    "mean = data_to_analyse['fields.usage_average'].mean()\n",
    "count = data_to_analyse['fields.usage_average'].count()\n",
    "stdv, mean"
   ]
  },
  {
   "cell_type": "markdown",
   "metadata": {},
   "source": [
    "# Using gaussian distribution(survival function) to calculate the probability of >80% usage"
   ]
  },
  {
   "cell_type": "code",
   "execution_count": 8,
   "metadata": {},
   "outputs": [
    {
     "name": "stdout",
     "output_type": "stream",
     "text": [
      "58.828230580658754%\n"
     ]
    }
   ],
   "source": [
    "usage = 85\n",
    "grsf = norm.sf(x=usage, loc=mean, scale=stdv) * 100\n",
    "print('{0}%'.format(grsf))"
   ]
  },
  {
   "cell_type": "markdown",
   "metadata": {},
   "source": [
    "# Plot The results using Bell curve(Normal distribution)"
   ]
  },
  {
   "cell_type": "code",
   "execution_count": 9,
   "metadata": {},
   "outputs": [
    {
     "data": {
      "image/png": "[encoded data removed]",
      "text/plain": [
       "<Figure size 432x288 with 1 Axes>"
      ]
     },
     "metadata": {
      "needs_background": "light"
     },
     "output_type": "display_data"
    }
   ],
   "source": [
    "fig, ax = plt.subplots()\n",
    "x = np.linspace(mean-4*stdv,mean+4*stdv, int(mean))\n",
    "p = norm.pdf(x, scale=stdv, loc=mean) \n",
    "ax.plot(x, norm.pdf(x, scale=stdv, loc=mean), label='stdv=%.1f' % stdv)\n",
    "ax.set_xlabel('memory usage')\n",
    "ax.set_ylabel('pdf(x)')\n",
    "ax.grid(True)\n",
    "px=np.arange(usage, mean+4*stdv, 0.01)\n",
    "ax.fill_between(px,norm.pdf(px,scale=stdv, loc=mean),alpha=0.5, color='r')\n",
    "ax.text(usage,0.02,\"sf(x) %.2f\" %(grsf), fontsize=20)\n",
    "plt.show()"
   ]
  },
  {
   "cell_type": "code",
   "execution_count": null,
   "metadata": {},
   "outputs": [],
   "source": []
  }
 ],
 "metadata": {
  "kernelspec": {
   "display_name": "Python 3",
   "language": "python",
   "name": "python3"
  },
  "language_info": {
   "codemirror_mode": {
    "name": "ipython",
    "version": 3
   },
   "file_extension": ".py",
   "mimetype": "text/x-python",
   "name": "python",
   "nbconvert_exporter": "python",
   "pygments_lexer": "ipython3",
   "version": "3.7.3"
  }
 },
 "nbformat": 4,
 "nbformat_minor": 2
}
